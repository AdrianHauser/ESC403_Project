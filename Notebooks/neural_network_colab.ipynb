{
 "cells": [
  {
   "cell_type": "code",
   "source": [
    "!pip install --upgrade segmentation-models-pytorch"
   ],
   "metadata": {
    "colab": {
     "base_uri": "https://localhost:8080/"
    },
    "id": "Yllp_pNZAyTn",
    "outputId": "313c7932-68f6-4930-e2c2-e3ac8b3ed54a",
    "collapsed": true
   },
   "execution_count": 1,
   "outputs": [
    {
     "output_type": "stream",
     "name": "stdout",
     "text": [
      "Collecting segmentation-models-pytorch\n",
      "  Downloading segmentation_models_pytorch-0.3.3-py3-none-any.whl (106 kB)\n",
      "\u001B[?25l     \u001B[90m━━━━━━━━━━━━━━━━━━━━━━━━━━━━━━━━━━━━━━━━\u001B[0m \u001B[32m0.0/106.7 kB\u001B[0m \u001B[31m?\u001B[0m eta \u001B[36m-:--:--\u001B[0m\r\u001B[2K     \u001B[90m━━━━━━━━━━━━━━━━━━━━━━━━━━━━━━━━━━━━━━━━\u001B[0m \u001B[32m106.7/106.7 kB\u001B[0m \u001B[31m4.6 MB/s\u001B[0m eta \u001B[36m0:00:00\u001B[0m\n",
      "\u001B[?25hRequirement already satisfied: torchvision>=0.5.0 in /usr/local/lib/python3.10/dist-packages (from segmentation-models-pytorch) (0.17.1+cu121)\n",
      "Collecting pretrainedmodels==0.7.4 (from segmentation-models-pytorch)\n",
      "  Downloading pretrainedmodels-0.7.4.tar.gz (58 kB)\n",
      "\u001B[?25l     \u001B[90m━━━━━━━━━━━━━━━━━━━━━━━━━━━━━━━━━━━━━━━━\u001B[0m \u001B[32m0.0/58.8 kB\u001B[0m \u001B[31m?\u001B[0m eta \u001B[36m-:--:--\u001B[0m\r\u001B[2K     \u001B[90m━━━━━━━━━━━━━━━━━━━━━━━━━━━━━━━━━━━━━━━━\u001B[0m \u001B[32m58.8/58.8 kB\u001B[0m \u001B[31m7.5 MB/s\u001B[0m eta \u001B[36m0:00:00\u001B[0m\n",
      "\u001B[?25h  Preparing metadata (setup.py) ... \u001B[?25l\u001B[?25hdone\n",
      "Collecting efficientnet-pytorch==0.7.1 (from segmentation-models-pytorch)\n",
      "  Downloading efficientnet_pytorch-0.7.1.tar.gz (21 kB)\n",
      "  Preparing metadata (setup.py) ... \u001B[?25l\u001B[?25hdone\n",
      "Collecting timm==0.9.2 (from segmentation-models-pytorch)\n",
      "  Downloading timm-0.9.2-py3-none-any.whl (2.2 MB)\n",
      "\u001B[2K     \u001B[90m━━━━━━━━━━━━━━━━━━━━━━━━━━━━━━━━━━━━━━━━\u001B[0m \u001B[32m2.2/2.2 MB\u001B[0m \u001B[31m30.5 MB/s\u001B[0m eta \u001B[36m0:00:00\u001B[0m\n",
      "\u001B[?25hRequirement already satisfied: tqdm in /usr/local/lib/python3.10/dist-packages (from segmentation-models-pytorch) (4.66.4)\n",
      "Requirement already satisfied: pillow in /usr/local/lib/python3.10/dist-packages (from segmentation-models-pytorch) (9.4.0)\n",
      "Requirement already satisfied: torch in /usr/local/lib/python3.10/dist-packages (from efficientnet-pytorch==0.7.1->segmentation-models-pytorch) (2.2.1+cu121)\n",
      "Collecting munch (from pretrainedmodels==0.7.4->segmentation-models-pytorch)\n",
      "  Downloading munch-4.0.0-py2.py3-none-any.whl (9.9 kB)\n",
      "Requirement already satisfied: pyyaml in /usr/local/lib/python3.10/dist-packages (from timm==0.9.2->segmentation-models-pytorch) (6.0.1)\n",
      "Requirement already satisfied: huggingface-hub in /usr/local/lib/python3.10/dist-packages (from timm==0.9.2->segmentation-models-pytorch) (0.20.3)\n",
      "Requirement already satisfied: safetensors in /usr/local/lib/python3.10/dist-packages (from timm==0.9.2->segmentation-models-pytorch) (0.4.3)\n",
      "Requirement already satisfied: numpy in /usr/local/lib/python3.10/dist-packages (from torchvision>=0.5.0->segmentation-models-pytorch) (1.25.2)\n",
      "Requirement already satisfied: filelock in /usr/local/lib/python3.10/dist-packages (from torch->efficientnet-pytorch==0.7.1->segmentation-models-pytorch) (3.14.0)\n",
      "Requirement already satisfied: typing-extensions>=4.8.0 in /usr/local/lib/python3.10/dist-packages (from torch->efficientnet-pytorch==0.7.1->segmentation-models-pytorch) (4.11.0)\n",
      "Requirement already satisfied: sympy in /usr/local/lib/python3.10/dist-packages (from torch->efficientnet-pytorch==0.7.1->segmentation-models-pytorch) (1.12)\n",
      "Requirement already satisfied: networkx in /usr/local/lib/python3.10/dist-packages (from torch->efficientnet-pytorch==0.7.1->segmentation-models-pytorch) (3.3)\n",
      "Requirement already satisfied: jinja2 in /usr/local/lib/python3.10/dist-packages (from torch->efficientnet-pytorch==0.7.1->segmentation-models-pytorch) (3.1.4)\n",
      "Requirement already satisfied: fsspec in /usr/local/lib/python3.10/dist-packages (from torch->efficientnet-pytorch==0.7.1->segmentation-models-pytorch) (2023.6.0)\n",
      "Collecting nvidia-cuda-nvrtc-cu12==12.1.105 (from torch->efficientnet-pytorch==0.7.1->segmentation-models-pytorch)\n",
      "  Using cached nvidia_cuda_nvrtc_cu12-12.1.105-py3-none-manylinux1_x86_64.whl (23.7 MB)\n",
      "Collecting nvidia-cuda-runtime-cu12==12.1.105 (from torch->efficientnet-pytorch==0.7.1->segmentation-models-pytorch)\n",
      "  Using cached nvidia_cuda_runtime_cu12-12.1.105-py3-none-manylinux1_x86_64.whl (823 kB)\n",
      "Collecting nvidia-cuda-cupti-cu12==12.1.105 (from torch->efficientnet-pytorch==0.7.1->segmentation-models-pytorch)\n",
      "  Using cached nvidia_cuda_cupti_cu12-12.1.105-py3-none-manylinux1_x86_64.whl (14.1 MB)\n",
      "Collecting nvidia-cudnn-cu12==8.9.2.26 (from torch->efficientnet-pytorch==0.7.1->segmentation-models-pytorch)\n",
      "  Using cached nvidia_cudnn_cu12-8.9.2.26-py3-none-manylinux1_x86_64.whl (731.7 MB)\n",
      "Collecting nvidia-cublas-cu12==12.1.3.1 (from torch->efficientnet-pytorch==0.7.1->segmentation-models-pytorch)\n",
      "  Using cached nvidia_cublas_cu12-12.1.3.1-py3-none-manylinux1_x86_64.whl (410.6 MB)\n",
      "Collecting nvidia-cufft-cu12==11.0.2.54 (from torch->efficientnet-pytorch==0.7.1->segmentation-models-pytorch)\n",
      "  Using cached nvidia_cufft_cu12-11.0.2.54-py3-none-manylinux1_x86_64.whl (121.6 MB)\n",
      "Collecting nvidia-curand-cu12==10.3.2.106 (from torch->efficientnet-pytorch==0.7.1->segmentation-models-pytorch)\n",
      "  Using cached nvidia_curand_cu12-10.3.2.106-py3-none-manylinux1_x86_64.whl (56.5 MB)\n",
      "Collecting nvidia-cusolver-cu12==11.4.5.107 (from torch->efficientnet-pytorch==0.7.1->segmentation-models-pytorch)\n",
      "  Using cached nvidia_cusolver_cu12-11.4.5.107-py3-none-manylinux1_x86_64.whl (124.2 MB)\n",
      "Collecting nvidia-cusparse-cu12==12.1.0.106 (from torch->efficientnet-pytorch==0.7.1->segmentation-models-pytorch)\n",
      "  Using cached nvidia_cusparse_cu12-12.1.0.106-py3-none-manylinux1_x86_64.whl (196.0 MB)\n",
      "Collecting nvidia-nccl-cu12==2.19.3 (from torch->efficientnet-pytorch==0.7.1->segmentation-models-pytorch)\n",
      "  Using cached nvidia_nccl_cu12-2.19.3-py3-none-manylinux1_x86_64.whl (166.0 MB)\n",
      "Collecting nvidia-nvtx-cu12==12.1.105 (from torch->efficientnet-pytorch==0.7.1->segmentation-models-pytorch)\n",
      "  Using cached nvidia_nvtx_cu12-12.1.105-py3-none-manylinux1_x86_64.whl (99 kB)\n",
      "Requirement already satisfied: triton==2.2.0 in /usr/local/lib/python3.10/dist-packages (from torch->efficientnet-pytorch==0.7.1->segmentation-models-pytorch) (2.2.0)\n",
      "Collecting nvidia-nvjitlink-cu12 (from nvidia-cusolver-cu12==11.4.5.107->torch->efficientnet-pytorch==0.7.1->segmentation-models-pytorch)\n",
      "  Using cached nvidia_nvjitlink_cu12-12.4.127-py3-none-manylinux2014_x86_64.whl (21.1 MB)\n",
      "Requirement already satisfied: requests in /usr/local/lib/python3.10/dist-packages (from huggingface-hub->timm==0.9.2->segmentation-models-pytorch) (2.31.0)\n",
      "Requirement already satisfied: packaging>=20.9 in /usr/local/lib/python3.10/dist-packages (from huggingface-hub->timm==0.9.2->segmentation-models-pytorch) (24.0)\n",
      "Requirement already satisfied: MarkupSafe>=2.0 in /usr/local/lib/python3.10/dist-packages (from jinja2->torch->efficientnet-pytorch==0.7.1->segmentation-models-pytorch) (2.1.5)\n",
      "Requirement already satisfied: charset-normalizer<4,>=2 in /usr/local/lib/python3.10/dist-packages (from requests->huggingface-hub->timm==0.9.2->segmentation-models-pytorch) (3.3.2)\n",
      "Requirement already satisfied: idna<4,>=2.5 in /usr/local/lib/python3.10/dist-packages (from requests->huggingface-hub->timm==0.9.2->segmentation-models-pytorch) (3.7)\n",
      "Requirement already satisfied: urllib3<3,>=1.21.1 in /usr/local/lib/python3.10/dist-packages (from requests->huggingface-hub->timm==0.9.2->segmentation-models-pytorch) (2.0.7)\n",
      "Requirement already satisfied: certifi>=2017.4.17 in /usr/local/lib/python3.10/dist-packages (from requests->huggingface-hub->timm==0.9.2->segmentation-models-pytorch) (2024.2.2)\n",
      "Requirement already satisfied: mpmath>=0.19 in /usr/local/lib/python3.10/dist-packages (from sympy->torch->efficientnet-pytorch==0.7.1->segmentation-models-pytorch) (1.3.0)\n",
      "Building wheels for collected packages: efficientnet-pytorch, pretrainedmodels\n",
      "  Building wheel for efficientnet-pytorch (setup.py) ... \u001B[?25l\u001B[?25hdone\n",
      "  Created wheel for efficientnet-pytorch: filename=efficientnet_pytorch-0.7.1-py3-none-any.whl size=16429 sha256=55d081ccdd096647d8845225d412a72d49c3b6dd55fb6579bd5f0bcbd54d3818\n",
      "  Stored in directory: /root/.cache/pip/wheels/03/3f/e9/911b1bc46869644912bda90a56bcf7b960f20b5187feea3baf\n",
      "  Building wheel for pretrainedmodels (setup.py) ... \u001B[?25l\u001B[?25hdone\n",
      "  Created wheel for pretrainedmodels: filename=pretrainedmodels-0.7.4-py3-none-any.whl size=60945 sha256=ac5cf4aaedf268f6a3373875b19b12596b45e6dedda2443a71b75384e6af19c5\n",
      "  Stored in directory: /root/.cache/pip/wheels/35/cb/a5/8f534c60142835bfc889f9a482e4a67e0b817032d9c6883b64\n",
      "Successfully built efficientnet-pytorch pretrainedmodels\n",
      "Installing collected packages: nvidia-nvtx-cu12, nvidia-nvjitlink-cu12, nvidia-nccl-cu12, nvidia-curand-cu12, nvidia-cufft-cu12, nvidia-cuda-runtime-cu12, nvidia-cuda-nvrtc-cu12, nvidia-cuda-cupti-cu12, nvidia-cublas-cu12, munch, nvidia-cusparse-cu12, nvidia-cudnn-cu12, nvidia-cusolver-cu12, efficientnet-pytorch, timm, pretrainedmodels, segmentation-models-pytorch\n",
      "Successfully installed efficientnet-pytorch-0.7.1 munch-4.0.0 nvidia-cublas-cu12-12.1.3.1 nvidia-cuda-cupti-cu12-12.1.105 nvidia-cuda-nvrtc-cu12-12.1.105 nvidia-cuda-runtime-cu12-12.1.105 nvidia-cudnn-cu12-8.9.2.26 nvidia-cufft-cu12-11.0.2.54 nvidia-curand-cu12-10.3.2.106 nvidia-cusolver-cu12-11.4.5.107 nvidia-cusparse-cu12-12.1.0.106 nvidia-nccl-cu12-2.19.3 nvidia-nvjitlink-cu12-12.4.127 nvidia-nvtx-cu12-12.1.105 pretrainedmodels-0.7.4 segmentation-models-pytorch-0.3.3 timm-0.9.2\n"
     ]
    }
   ]
  },
  {
   "cell_type": "code",
   "source": [
    "!pip install --upgrade torcheval"
   ],
   "metadata": {
    "colab": {
     "base_uri": "https://localhost:8080/"
    },
    "collapsed": true,
    "id": "lJM8JPwxs-PX",
    "outputId": "9e56a5f3-3aa8-40fa-fd21-76728b84b019"
   },
   "execution_count": 14,
   "outputs": [
    {
     "output_type": "stream",
     "name": "stdout",
     "text": [
      "Collecting torcheval\n",
      "  Downloading torcheval-0.0.7-py3-none-any.whl (179 kB)\n",
      "\u001B[2K     \u001B[90m━━━━━━━━━━━━━━━━━━━━━━━━━━━━━━━━━━━━━━━━\u001B[0m \u001B[32m179.2/179.2 kB\u001B[0m \u001B[31m4.8 MB/s\u001B[0m eta \u001B[36m0:00:00\u001B[0m\n",
      "\u001B[?25hRequirement already satisfied: typing-extensions in /usr/local/lib/python3.10/dist-packages (from torcheval) (4.11.0)\n",
      "Installing collected packages: torcheval\n",
      "Successfully installed torcheval-0.0.7\n"
     ]
    }
   ]
  },
  {
   "cell_type": "code",
   "execution_count": 15,
   "metadata": {
    "collapsed": true,
    "id": "7iUWf-FyAJuc"
   },
   "outputs": [],
   "source": [
    "import pickle\n",
    "from torch.utils.data import Dataset, random_split\n",
    "from torchvision import transforms\n",
    "from torch.utils.data import DataLoader\n",
    "import torch\n",
    "from joblib import load\n",
    "\n",
    "from pathlib import Path\n",
    "from sklearn.model_selection import train_test_split\n",
    "from matplotlib import colors\n",
    "import matplotlib.pyplot as plt\n",
    "import segmentation_models_pytorch as smp\n",
    "\n",
    "import torchvision.transforms.functional as F\n",
    "from tempfile import TemporaryDirectory\n",
    "import time\n",
    "import os\n",
    "from torcheval.metrics.functional import binary_auprc"
   ]
  },
  {
   "cell_type": "code",
   "source": [
    "from google.colab import drive\n",
    "drive.mount('/content/drive', force_remount=True)\n",
    "PROJECT_PATH ='/content/drive/MyDrive/ESC403_Project/'"
   ],
   "metadata": {
    "colab": {
     "base_uri": "https://localhost:8080/"
    },
    "id": "FTfoT5AhAxUZ",
    "outputId": "4fd31266-e6bb-4be2-ae1f-30b3caf19d1b"
   },
   "execution_count": 3,
   "outputs": [
    {
     "output_type": "stream",
     "name": "stdout",
     "text": [
      "Mounted at /content/drive\n"
     ]
    }
   ]
  },
  {
   "cell_type": "code",
   "execution_count": 4,
   "outputs": [],
   "source": [
    "device = torch.device(\"cuda:0\" if torch.cuda.is_available() else \"cpu\")"
   ],
   "metadata": {
    "id": "jDRnIIcsAJug"
   }
  },
  {
   "cell_type": "markdown",
   "source": [
    "## Load Data from Pickle"
   ],
   "metadata": {
    "collapsed": false,
    "id": "TVKxeRQKAJug"
   }
  },
  {
   "cell_type": "code",
   "execution_count": 17,
   "outputs": [],
   "source": [
    "def load_data(trial: bool, feature_idx: list):\n",
    "    \"\"\" Load Feature Engineered tensor data in .pkl file, applies train-test split. \"\"\"\n",
    "\n",
    "    # Read Pickle Data\n",
    "    data_dir = PROJECT_PATH + 'feature_engineered'\n",
    "    X = load(data_dir / Path(r\"X_fe.pkl\"))\n",
    "    y = load(data_dir / Path(r\"y_fe.pkl\"))\n",
    "\n",
    "    # Train test split (80% Train, 20% Test)\n",
    "    X_train, X_test, y_train, y_test = train_test_split(X, y, test_size=0.2, random_state=42)\n",
    "\n",
    "    # Remove unused features\n",
    "    retained_features_idx = torch.tensor(feature_idx)\n",
    "    X_train = torch.index_select(X_train, 3, retained_features_idx)\n",
    "    X_test = torch.index_select(X_test, 3, retained_features_idx)\n",
    "\n",
    "    # Set -1 values in fire mask and next-day fire mask to 0\n",
    "    X_train[:, :, :, 10] = X_train[:, :, :, 10].clamp(min=0, max=1)\n",
    "    X_test[:, :, :, 10] = X_test[:, :, :, 10].clamp(min=0, max=1)\n",
    "    y_train[:, :, :, 0] = y_train[:, :, :, 0].clamp(min=0, max=1)\n",
    "    y_test[:, :, :, 0] = y_test[:, :, :, 0].clamp(min=0, max=1)\n",
    "\n",
    "    # Permute to adhere to Pytorch Standard (Batch, Channels, Height, Width)\n",
    "    X_train, X_test, y_train, y_test = [t.permute(0,3,1,2) for t in [X_train, X_test, y_train, y_test]]\n",
    "\n",
    "    return X_train, X_test, y_train, y_test\n",
    "\n",
    "X_train, X_test, y_train, y_test = load_data(\n",
    "    trial=False,\n",
    "    feature_idx = [0,2,3,4,5,6,7,8,9,10,11,12,14]\n",
    ")"
   ],
   "metadata": {
    "id": "nYH7QcHQAJuh"
   }
  },
  {
   "cell_type": "markdown",
   "source": [
    "## Create Dataset Class\n",
    "Let's define the Dataset Class for training and testing. The validation set gets generated later from the training sets. We define custom datasets inheriting from torch.utils.data.Dataset to create DataLoaders later."
   ],
   "metadata": {
    "collapsed": false,
    "id": "QhT9bdJ4AJui"
   }
  },
  {
   "cell_type": "code",
   "execution_count": 124,
   "outputs": [],
   "source": [
    "class CustomDataset(torch.utils.data.Dataset):\n",
    "  def __init__(self, X, y, transform=None):\n",
    "    self.X = X\n",
    "    self.y = y\n",
    "    self.transform = transform\n",
    "\n",
    "  def __getitem__(self, index):\n",
    "    # Return input and target value for the given index\n",
    "    X, y = self.X[index,:,:,:], self.y[index,:,:,:]\n",
    "\n",
    "    if self.transform:\n",
    "        # Concatenate X and y to apply same random transforms and then split them again\n",
    "        X_y = torch.cat((X, y), dim=0)\n",
    "        X_y = self.transform(X_y)\n",
    "\n",
    "        X = X_y[:13, :, :]\n",
    "        y = X_y[13:14, :, :]\n",
    "\n",
    "    return X, y\n",
    "\n",
    "  def __len__(self):\n",
    "    # Return the length of this dataset\n",
    "    return len(self.X)"
   ],
   "metadata": {
    "id": "Po-SynwdAJui"
   }
  },
  {
   "cell_type": "markdown",
   "source": [
    "## Define Transformations"
   ],
   "metadata": {
    "collapsed": false,
    "id": "PliJmKd7AJuj"
   }
  },
  {
   "cell_type": "code",
   "execution_count": 125,
   "outputs": [],
   "source": [
    "# Define Transformations. We use a random horizontal and vertical flip followed by a random 32x32\n",
    "# crop do mitigate our model from predicting fires just in the image center.\n",
    "\n",
    "# Create sequence of means and standard deviations for each of the 13 channels\n",
    "mean_stats = X_train.mean(dim=(0, 2, 3), keepdim=True).squeeze().tolist()\n",
    "std_stats = X_train.std(dim=(0, 2, 3), keepdim=True).squeeze().tolist()\n",
    "\n",
    "# Fire mask should stay binary\n",
    "mean_stats[10], std_stats[10] = 0, 1\n",
    "mean_stats.append(0)\n",
    "std_stats.append(1)\n",
    "\n",
    "transform = transforms.Compose([\n",
    "        transforms.RandomHorizontalFlip(),\n",
    "        transforms.RandomVerticalFlip(),\n",
    "        transforms.RandomCrop(32),\n",
    "        transforms.Normalize(mean=mean_stats,\n",
    "                             std=std_stats)\n",
    "        ])"
   ],
   "metadata": {
    "id": "ynrture9AJuj"
   }
  },
  {
   "cell_type": "markdown",
   "source": [
    "## Create Datasets and DataLoaders"
   ],
   "metadata": {
    "collapsed": false,
    "id": "E8qy87ZWAJul"
   }
  },
  {
   "cell_type": "code",
   "source": [
    "train_dataset = CustomDataset(\n",
    "    X_train,\n",
    "    y_train,\n",
    "    transform=transform)\n",
    "\n",
    "test_dataset = CustomDataset(\n",
    "    X_test,\n",
    "    y_test,\n",
    "    transform=transform)"
   ],
   "metadata": {
    "id": "W_YMmjGNuEu4"
   },
   "execution_count": 126,
   "outputs": []
  },
  {
   "cell_type": "code",
   "execution_count": 127,
   "outputs": [],
   "source": [
    "train_dataloader = DataLoader(train_dataset, batch_size=32, shuffle=True)\n",
    "test_dataloader = DataLoader(test_dataset, batch_size=32, shuffle=False)"
   ],
   "metadata": {
    "id": "2kDZ2HdzAJul"
   }
  },
  {
   "cell_type": "markdown",
   "source": [
    "## Load Model"
   ],
   "metadata": {
    "collapsed": false,
    "id": "Q8Xqq2nqAJum"
   }
  },
  {
   "cell_type": "code",
   "execution_count": 135,
   "outputs": [],
   "source": [
    "model = smp.Unet(\n",
    "    encoder_name=\"resnet18\",\n",
    "    encoder_weights=\"imagenet\",\n",
    "    in_channels=13,\n",
    "    classes=1,\n",
    "    activation = 'sigmoid'\n",
    ")"
   ],
   "metadata": {
    "id": "jyPxkxs2AJum"
   }
  },
  {
   "cell_type": "markdown",
   "source": [
    "## Train Model"
   ],
   "metadata": {
    "id": "QqffVa_IusCo"
   }
  },
  {
   "cell_type": "code",
   "execution_count": 179,
   "outputs": [],
   "source": [
    "def train_model(train_loader, model, num_epochs: int, criterion, optimizer):\n",
    "\n",
    "    model.to(device)\n",
    "    since = time.time()\n",
    "\n",
    "    # Split train_loader into training and validation sets\n",
    "    data_size = {'train': int(0.8 * len(train_loader.dataset)),\n",
    "                 'val': len(train_loader.dataset) - int(0.8 * len(train_loader.dataset))}\n",
    "\n",
    "    train_dataset, val_dataset = random_split(train_loader.dataset, [data_size['train'], data_size['val']])\n",
    "\n",
    "    dataloaders = {'train': DataLoader(train_dataset, batch_size=train_loader.batch_size, shuffle=True),\n",
    "                   'val': DataLoader(val_dataset, batch_size=train_loader.batch_size, shuffle=False)}\n",
    "\n",
    "\n",
    "    # Create a temporary directory to save training checkpoints\n",
    "    with TemporaryDirectory() as tempdir:\n",
    "        best_model_params_path = os.path.join(tempdir, 'best_model_params.pt')\n",
    "\n",
    "        torch.save(model.state_dict(), best_model_params_path)\n",
    "        best_acc = 0.0\n",
    "\n",
    "        for epoch in range(num_epochs):\n",
    "            print(f'Epoch {epoch}/{num_epochs - 1}')\n",
    "            print('-' * 10)\n",
    "\n",
    "            # Training and Validation phase\n",
    "            for phase in ['train', 'val']:\n",
    "                model.train() if phase == 'train' else model.eval()\n",
    "                running_loss, running_auprc = 0.0, 0\n",
    "\n",
    "                # Iterate over data.\n",
    "                for inputs, labels in dataloaders[phase]:\n",
    "                    inputs = inputs.to(device)\n",
    "                    labels = labels.to(device).squeeze()\n",
    "                    optimizer.zero_grad()\n",
    "\n",
    "                    # Forward\n",
    "                    with torch.set_grad_enabled(phase == 'train'):\n",
    "                        outputs = model(inputs).squeeze()\n",
    "                        loss = criterion(outputs, labels)\n",
    "\n",
    "                        # Backward and optimization\n",
    "                        if phase == 'train':\n",
    "                            loss.backward()\n",
    "                            optimizer.step()\n",
    "\n",
    "                    # Statistics\n",
    "                    running_loss += loss.item() * inputs.size(0)\n",
    "\n",
    "                    # For Accuracy use AUPRC as we have unbalanced data\n",
    "                    outputs = (outputs >= 0.5).float()\n",
    "                    outputs_flat = outputs.view(outputs.shape[0], -1)\n",
    "                    labels_flat = labels.view(labels.shape[0], -1)\n",
    "\n",
    "                    auprc = binary_auprc(outputs_flat, labels_flat, num_tasks=len(labels))\n",
    "                    running_auprc += torch.sum(auprc)\n",
    "\n",
    "                epoch_loss = running_loss / data_size[phase]\n",
    "                epoch_auprc = running_auprc.double() / data_size[phase]\n",
    "                print(f'{phase} Loss: {epoch_loss:.4f} AUPRC: {epoch_auprc:.4f}')\n",
    "\n",
    "                # Deep copy the model\n",
    "                if phase == 'val' and epoch_auprc > best_acc:\n",
    "                    best_acc = epoch_auprc\n",
    "                    torch.save(model.state_dict(), best_model_params_path)\n",
    "\n",
    "            print()\n",
    "\n",
    "        time_elapsed = time.time() - since\n",
    "        print(f'Training complete in {time_elapsed // 60:.0f}m {time_elapsed % 60:.0f}s')\n",
    "        print(f'Best val Acc: {best_acc:4f}')\n",
    "\n",
    "        # Load best model weights\n",
    "        model.load_state_dict(torch.load(best_model_params_path))\n",
    "\n",
    "        # Train the best model again on all training data without validation\n",
    "        model.train()\n",
    "        for inputs, labels in train_loader:\n",
    "            inputs = inputs.to(device)\n",
    "            labels = labels.to(device)\n",
    "            optimizer.zero_grad()\n",
    "\n",
    "            outputs = model(inputs)\n",
    "            loss = criterion(outputs, labels)\n",
    "            loss.backward()\n",
    "            optimizer.step()\n",
    "\n",
    "    return model"
   ],
   "metadata": {
    "id": "tgDPUkQVAJum"
   }
  },
  {
   "cell_type": "code",
   "execution_count": 210,
   "outputs": [
    {
     "output_type": "stream",
     "name": "stdout",
     "text": [
      "Epoch 0/19\n",
      "----------\n",
      "train Loss: 0.7099 AUPRC: 0.0753\n",
      "val Loss: 0.7098 AUPRC: 0.0772\n",
      "\n",
      "Epoch 1/19\n",
      "----------\n",
      "train Loss: 0.7099 AUPRC: 0.0714\n",
      "val Loss: 0.7096 AUPRC: 0.0732\n",
      "\n",
      "Epoch 2/19\n",
      "----------\n",
      "train Loss: 0.7098 AUPRC: 0.0742\n",
      "val Loss: 0.7102 AUPRC: 0.0659\n",
      "\n",
      "Epoch 3/19\n",
      "----------\n",
      "train Loss: 0.7099 AUPRC: 0.0724\n",
      "val Loss: 0.7099 AUPRC: 0.0659\n",
      "\n",
      "Epoch 4/19\n",
      "----------\n",
      "train Loss: 0.7098 AUPRC: 0.0755\n",
      "val Loss: 0.7097 AUPRC: 0.0749\n",
      "\n",
      "Epoch 5/19\n",
      "----------\n",
      "train Loss: 0.7098 AUPRC: 0.0740\n",
      "val Loss: 0.7094 AUPRC: 0.0774\n",
      "\n",
      "Epoch 6/19\n",
      "----------\n",
      "train Loss: 0.7098 AUPRC: 0.0726\n",
      "val Loss: 0.7092 AUPRC: 0.0759\n",
      "\n",
      "Epoch 7/19\n",
      "----------\n",
      "train Loss: 0.7099 AUPRC: 0.0728\n",
      "val Loss: 0.7097 AUPRC: 0.0757\n",
      "\n",
      "Epoch 8/19\n",
      "----------\n",
      "train Loss: 0.7099 AUPRC: 0.0738\n",
      "val Loss: 0.7097 AUPRC: 0.0755\n",
      "\n",
      "Epoch 9/19\n",
      "----------\n",
      "train Loss: 0.7099 AUPRC: 0.0746\n",
      "val Loss: 0.7101 AUPRC: 0.0659\n",
      "\n",
      "Epoch 10/19\n",
      "----------\n",
      "train Loss: 0.7097 AUPRC: 0.0743\n",
      "val Loss: 0.7097 AUPRC: 0.0767\n",
      "\n",
      "Epoch 11/19\n",
      "----------\n",
      "train Loss: 0.7101 AUPRC: 0.0755\n",
      "val Loss: 0.7104 AUPRC: 0.0626\n",
      "\n",
      "Epoch 12/19\n",
      "----------\n",
      "train Loss: 0.7098 AUPRC: 0.0753\n",
      "val Loss: 0.7096 AUPRC: 0.0768\n",
      "\n",
      "Epoch 13/19\n",
      "----------\n",
      "train Loss: 0.7098 AUPRC: 0.0757\n",
      "val Loss: 0.7100 AUPRC: 0.0700\n",
      "\n",
      "Epoch 14/19\n",
      "----------\n",
      "train Loss: 0.7099 AUPRC: 0.0736\n",
      "val Loss: 0.7098 AUPRC: 0.0562\n",
      "\n",
      "Epoch 15/19\n",
      "----------\n",
      "train Loss: 0.7098 AUPRC: 0.0733\n",
      "val Loss: 0.7100 AUPRC: 0.0759\n",
      "\n",
      "Epoch 16/19\n",
      "----------\n",
      "train Loss: 0.7096 AUPRC: 0.0742\n",
      "val Loss: 0.7095 AUPRC: 0.0766\n",
      "\n",
      "Epoch 17/19\n",
      "----------\n",
      "train Loss: 0.7097 AUPRC: 0.0728\n",
      "val Loss: 0.7096 AUPRC: 0.0647\n",
      "\n",
      "Epoch 18/19\n",
      "----------\n",
      "train Loss: 0.7097 AUPRC: 0.0751\n",
      "val Loss: 0.7090 AUPRC: 0.0744\n",
      "\n",
      "Epoch 19/19\n",
      "----------\n",
      "train Loss: 0.7098 AUPRC: 0.0746\n",
      "val Loss: 0.7095 AUPRC: 0.0718\n",
      "\n",
      "Training complete in 8m 9s\n",
      "Best val Acc: 0.077436\n"
     ]
    }
   ],
   "source": [
    "num_epochs = 20\n",
    "eta = 0.01\n",
    "optimizer = torch.optim.Adam(model.parameters(), lr=eta)\n",
    "# Define the weight for positive samples\n",
    "positive_weight = 2.0  # You can adjust this weight as needed\n",
    "\n",
    "# Define the loss function with weighted positive samples\n",
    "criterion = torch.nn.BCEWithLogitsLoss(pos_weight=torch.tensor(positive_weight))\n",
    "\n",
    "\n",
    "\n",
    "model_trained = train_model(train_loader=train_dataloader,\n",
    "                            model=model,\n",
    "                            num_epochs=num_epochs,\n",
    "                            criterion=criterion,\n",
    "                            optimizer=optimizer\n",
    "                            )"
   ],
   "metadata": {
    "pycharm": {
     "is_executing": true
    },
    "id": "FYABEX3yAJum",
    "outputId": "1d93f6c5-3f86-49cf-d0b2-51f90a141fe2",
    "colab": {
     "base_uri": "https://localhost:8080/"
    },
    "collapsed": true
   }
  },
  {
   "cell_type": "code",
   "execution_count": 211,
   "outputs": [],
   "source": [
    "def test_model(model, loader):\n",
    "\n",
    "    model.eval()\n",
    "    predictions = []\n",
    "    true = []\n",
    "\n",
    "    # Iterate over the test data\n",
    "    with torch.no_grad(): # We don't need to compute gradients for testing\n",
    "        for x_batch, t in loader:\n",
    "            x_batch = x_batch.to(device)\n",
    "            predicted = model(x_batch)\n",
    "            predicted = predicted.cpu().numpy()\n",
    "            predicted[predicted > 0.5] = 1\n",
    "            predicted[predicted <= 0.5] = 0\n",
    "            predictions.append(predicted)\n",
    "            true.append(t.cpu().numpy())\n",
    "\n",
    "    return predictions, true"
   ],
   "metadata": {
    "id": "FgUob2mzAJun"
   }
  },
  {
   "cell_type": "code",
   "execution_count": 214,
   "outputs": [],
   "source": [
    "pred, true = test_model(model_trained, test_dataloader)\n",
    "pred = pred[0]\n",
    "true = true[0]"
   ],
   "metadata": {
    "id": "xphJlVKaAJun"
   }
  },
  {
   "cell_type": "code",
   "execution_count": 219,
   "outputs": [
    {
     "output_type": "display_data",
     "data": {
      "text/plain": [
       "<Figure size 800x400 with 2 Axes>"
      ],
      "image/png": "[encoded data removed]"
     },
     "metadata": {}
    },
    {
     "output_type": "display_data",
     "data": {
      "text/plain": [
       "<Figure size 800x400 with 2 Axes>"
      ],
      "image/png": "[encoded data removed]"
     },
     "metadata": {}
    },
    {
     "output_type": "display_data",
     "data": {
      "text/plain": [
       "<Figure size 800x400 with 2 Axes>"
      ],
      "image/png": "[encoded data removed]"
     },
     "metadata": {}
    },
    {
     "output_type": "display_data",
     "data": {
      "text/plain": [
       "<Figure size 800x400 with 2 Axes>"
      ],
      "image/png": "[encoded data removed]"
     },
     "metadata": {}
    },
    {
     "output_type": "display_data",
     "data": {
      "text/plain": [
       "<Figure size 800x400 with 2 Axes>"
      ],
      "image/png": "[encoded data removed]"
     },
     "metadata": {}
    },
    {
     "output_type": "display_data",
     "data": {
      "text/plain": [
       "<Figure size 800x400 with 2 Axes>"
      ],
      "image/png": "[encoded data removed]"
     },
     "metadata": {}
    },
    {
     "output_type": "display_data",
     "data": {
      "text/plain": [
       "<Figure size 800x400 with 2 Axes>"
      ],
      "image/png": "[encoded data removed]"
     },
     "metadata": {}
    },
    {
     "output_type": "display_data",
     "data": {
      "text/plain": [
       "<Figure size 800x400 with 2 Axes>"
      ],
      "image/png": "[encoded data removed]"
     },
     "metadata": {}
    },
    {
     "output_type": "display_data",
     "data": {
      "text/plain": [
       "<Figure size 800x400 with 2 Axes>"
      ],
      "image/png": "[encoded data removed]"
     },
     "metadata": {}
    },
    {
     "output_type": "display_data",
     "data": {
      "text/plain": [
       "<Figure size 800x400 with 2 Axes>"
      ],
      "image/png": "[encoded data removed]"
     },
     "metadata": {}
    },
    {
     "output_type": "display_data",
     "data": {
      "text/plain": [
       "<Figure size 800x400 with 2 Axes>"
      ],
      "image/png": "[encoded data removed]"
     },
     "metadata": {}
    },
    {
     "output_type": "display_data",
     "data": {
      "text/plain": [
       "<Figure size 800x400 with 2 Axes>"
      ],
      "image/png": "[encoded data removed]"
     },
     "metadata": {}
    },
    {
     "output_type": "display_data",
     "data": {
      "text/plain": [
       "<Figure size 800x400 with 2 Axes>"
      ],
      "image/png": "[encoded data removed]"
     },
     "metadata": {}
    },
    {
     "output_type": "display_data",
     "data": {
      "text/plain": [
       "<Figure size 800x400 with 2 Axes>"
      ],
      "image/png": "[encoded data removed]"
     },
     "metadata": {}
    },
    {
     "output_type": "display_data",
     "data": {
      "text/plain": [
       "<Figure size 800x400 with 2 Axes>"
      ],
      "image/png": "[encoded data removed]"
     },
     "metadata": {}
    },
    {
     "output_type": "display_data",
     "data": {
      "text/plain": [
       "<Figure size 800x400 with 2 Axes>"
      ],
      "image/png": "[encoded data removed]"
     },
     "metadata": {}
    },
    {
     "output_type": "display_data",
     "data": {
      "text/plain": [
       "<Figure size 800x400 with 2 Axes>"
      ],
      "image/png": "[encoded data removed]"
     },
     "metadata": {}
    },
    {
     "output_type": "display_data",
     "data": {
      "text/plain": [
       "<Figure size 800x400 with 2 Axes>"
      ],
      "image/png": "[encoded data removed]"
     },
     "metadata": {}
    },
    {
     "output_type": "display_data",
     "data": {
      "text/plain": [
       "<Figure size 800x400 with 2 Axes>"
      ],
      "image/png": "[encoded data removed]"
     },
     "metadata": {}
    },
    {
     "output_type": "display_data",
     "data": {
      "text/plain": [
       "<Figure size 800x400 with 2 Axes>"
      ],
      "image/png": "[encoded data removed]"
     },
     "metadata": {}
    }
   ],
   "source": [
    "for i in range(20):\n",
    "    fig, axs = plt.subplots(1, 2, figsize=(8, 4))\n",
    "\n",
    "    # Plot the true image\n",
    "    axs[0].imshow(true[i, 0], cmap='gray')\n",
    "    axs[0].set_title('True')\n",
    "    axs[0].axis('off')\n",
    "\n",
    "    # Plot the predicted image\n",
    "    axs[1].imshow(pred[i, 0], cmap='gray')\n",
    "    axs[1].set_title('Predicted')\n",
    "    axs[1].axis('off')\n",
    "\n",
    "    plt.show()\n"
   ],
   "metadata": {
    "id": "FuipTBC2AJun",
    "colab": {
     "base_uri": "https://localhost:8080/",
     "height": 1000
    },
    "outputId": "2d33ae0c-e62a-4faf-b2c8-2e7552a1e89b"
   }
  },
  {
   "cell_type": "code",
   "source": [
    "def compute_recall_precision(pred, true):\n",
    "    # Flatten the arrays for easier comparison\n",
    "    pred_flat = torch.FloatTensor(pred).flatten()\n",
    "    true_flat = torch.FloatTensor(true).flatten()\n",
    "\n",
    "    # Compute True Positives, False Positives, and False Negatives\n",
    "    TP = np.sum(np.logical_and(pred_flat == 1, true_flat == 1))\n",
    "    FP = np.sum(np.logical_and(pred_flat == 1, true_flat == 0))\n",
    "    FN = np.sum(np.logical_and(pred_flat == 0, true_flat == 1))\n",
    "    TN = np.sum(np.logical_and(pred_flat == 0, true_flat == 0))\n",
    "\n",
    "    # Compute Accuracy, Recall, and Precision\n",
    "    recall = TP / (TP + FN)\n",
    "    precision = TP / (TP + FP)\n",
    "\n",
    "    return recall, precision\n",
    "\n",
    "\n",
    "recall, precision = compute_recall_precision(pred, true)\n",
    "\n",
    "print(\"Recall:\", recall)\n",
    "print(\"Precision:\", precision)"
   ],
   "metadata": {
    "id": "gYwUJNZbJU5f"
   },
   "execution_count": null,
   "outputs": []
  }
 ],
 "metadata": {
  "kernelspec": {
   "display_name": "Python 3",
   "name": "python3"
  },
  "language_info": {
   "codemirror_mode": {
    "name": "ipython",
    "version": 2
   },
   "file_extension": ".py",
   "mimetype": "text/x-python",
   "name": "python",
   "nbconvert_exporter": "python",
   "pygments_lexer": "ipython2",
   "version": "2.7.6"
  },
  "colab": {
   "provenance": [],
   "gpuType": "T4",
   "machine_shape": "hm"
  },
  "accelerator": "GPU"
 },
 "nbformat": 4,
 "nbformat_minor": 0
}
