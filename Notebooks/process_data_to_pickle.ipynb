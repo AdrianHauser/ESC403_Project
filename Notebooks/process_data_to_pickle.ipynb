{
 "cells": [
  {
   "cell_type": "code",
   "execution_count": 2,
   "metadata": {},
   "outputs": [
    {
     "name": "stdout",
     "output_type": "stream",
     "text": [
      "['/Users/sebastiangmur/Projekte/Uzh/ESC403/ESC403_project/ESC403_Project/Notebooks', '/Users/sebastiangmur/opt/anaconda3/envs/my_fancy_env/lib/python39.zip', '/Users/sebastiangmur/opt/anaconda3/envs/my_fancy_env/lib/python3.9', '/Users/sebastiangmur/opt/anaconda3/envs/my_fancy_env/lib/python3.9/lib-dynload', '', '/Users/sebastiangmur/opt/anaconda3/envs/my_fancy_env/lib/python3.9/site-packages', '/Users/sebastiangmur/Projekte/Uzh/ESC403/ESC403_project/ESC403_Project']\n"
     ]
    }
   ],
   "source": [
    "import torch\n",
    "from matplotlib import colors\n",
    "import matplotlib.pyplot as plt\n",
    "from joblib import load\n",
    "from pathlib import Path\n",
    "import sys\n",
    "sys.path.append(\"/Users/sebastiangmur/Projekte/Uzh/ESC403/ESC403_project/ESC403_Project\") ## Only for Sebi, because his PATH is faulty\n",
    "print(sys.path)\n",
    "\n",
    "from config import ROOT_DIR"
   ]
  },
  {
   "cell_type": "code",
   "execution_count": 3,
   "metadata": {},
   "outputs": [
    {
     "name": "stderr",
     "output_type": "stream",
     "text": [
      "2024-04-30 19:18:23.195115: I tensorflow/core/platform/cpu_feature_guard.cc:193] This TensorFlow binary is optimized with oneAPI Deep Neural Network Library (oneDNN) to use the following CPU instructions in performance-critical operations:  SSE4.1 SSE4.2\n",
      "To enable them in other operations, rebuild TensorFlow with the appropriate compiler flags.\n"
     ]
    }
   ],
   "source": [
    "from src.data_processing.parse_data_to_pickle import parse_data_to_pickle"
   ]
  },
  {
   "cell_type": "code",
   "execution_count": 5,
   "metadata": {},
   "outputs": [
    {
     "name": "stdout",
     "output_type": "stream",
     "text": [
      "/Users/sebastiangmur/Projekte/Uzh/ESC403/ESC403_project/ESC403_Project/Data/next_day_wildfire_spread/next_day_wildfire_spread*\n",
      "Written <class 'torch.Tensor'> to /Users/sebastiangmur/Projekte/Uzh/ESC403/ESC403_project/ESC403_Project/Data/trial/X_torch.pkl.\n",
      "Written <class 'torch.Tensor'> to /Users/sebastiangmur/Projekte/Uzh/ESC403/ESC403_project/ESC403_Project/Data/trial/y_torch.pkl.\n"
     ]
    }
   ],
   "source": [
    "tf_records_path = ROOT_DIR / r\"Data/next_day_wildfire_spread/next_day_wildfire_spread*\"\n",
    "\n",
    "#parse_data_to_pickle(file_pattern = tf_records_path, batch_size = 25_000, testing = False)\n",
    "parse_data_to_pickle(file_pattern = tf_records_path, batch_size = 100, testing = True)"
   ]
  }
 ],
 "metadata": {
  "kernelspec": {
   "display_name": "my_fancy_env",
   "language": "python",
   "name": "python3"
  },
  "language_info": {
   "codemirror_mode": {
    "name": "ipython",
    "version": 3
   },
   "file_extension": ".py",
   "mimetype": "text/x-python",
   "name": "python",
   "nbconvert_exporter": "python",
   "pygments_lexer": "ipython3",
   "version": "3.9.18"
  }
 },
 "nbformat": 4,
 "nbformat_minor": 2
}
