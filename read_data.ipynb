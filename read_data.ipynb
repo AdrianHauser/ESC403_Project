{
 "cells": [
  {
   "cell_type": "code",
   "execution_count": 6,
   "metadata": {
    "collapsed": true
   },
   "outputs": [],
   "source": [
    "from tfrecord_reader import get_dataset\n",
    "from preprocessing import tf_to_torch\n",
    "import pickle"
   ]
  },
  {
   "cell_type": "code",
   "execution_count": 7,
   "outputs": [],
   "source": [
    "# Utility Function to save large objects in .pkl format\n",
    "def save_object(obj, filename):\n",
    "    with open(filename, 'wb') as outp:  # Overwrites any existing file.\n",
    "        pickle.dump(obj, outp, pickle.HIGHEST_PROTOCOL)"
   ],
   "metadata": {
    "collapsed": false
   }
  },
  {
   "cell_type": "code",
   "execution_count": 16,
   "outputs": [],
   "source": [
    "# Load the training data\n",
    "file_pattern = \"Data/next_day_wildfire_spread/next_day_wildfire_spread*\""
   ],
   "metadata": {
    "collapsed": false
   }
  },
  {
   "cell_type": "code",
   "execution_count": 20,
   "outputs": [],
   "source": [
    "# load the training data\n",
    "def read_tfrecords(file_pattern: str, batch_size: int = 20_000):\n",
    "      \"\"\"\n",
    "      Takes file pattern and batch size and return X and y in torch.Tensor format\n",
    "      \"\"\"\n",
    "      dataset = get_dataset(\n",
    "            file_pattern,\n",
    "            data_size=64,\n",
    "            sample_size=64,\n",
    "            batch_size=batch_size,\n",
    "            num_in_channels=12,\n",
    "            compression_type=None,\n",
    "            clip_and_normalize=False,\n",
    "            clip_and_rescale=False,\n",
    "            random_crop=False,\n",
    "            center_crop=False)\n",
    "\n",
    "      # get the inputs and labels separately\n",
    "      X, y = next(iter(dataset.take(1)))\n",
    "      X = tf_to_torch(X)\n",
    "      y = tf_to_torch(y)\n",
    "      return X, y"
   ],
   "metadata": {
    "collapsed": false
   }
  },
  {
   "cell_type": "code",
   "execution_count": 21,
   "outputs": [],
   "source": [
    "# Get Training Data and save it as torch.Tensors to pkl files\n",
    "X, y = read_tfrecords(file_pattern)\n",
    "save_object(X, \"Data/pickle_files/X.pkl\")\n",
    "save_object(y, \"Data/pickle_files/y.pkl\")"
   ],
   "metadata": {
    "collapsed": false
   }
  }
 ],
 "metadata": {
  "kernelspec": {
   "display_name": "Python 3",
   "language": "python",
   "name": "python3"
  },
  "language_info": {
   "codemirror_mode": {
    "name": "ipython",
    "version": 2
   },
   "file_extension": ".py",
   "mimetype": "text/x-python",
   "name": "python",
   "nbconvert_exporter": "python",
   "pygments_lexer": "ipython2",
   "version": "2.7.6"
  }
 },
 "nbformat": 4,
 "nbformat_minor": 0
}
