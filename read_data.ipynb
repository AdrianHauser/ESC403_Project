{
 "cells": [
  {
   "cell_type": "code",
   "execution_count": 1,
   "metadata": {
    "collapsed": true
   },
   "outputs": [],
   "source": [
    "from tfrecord_reader import get_dataset"
   ]
  },
  {
   "cell_type": "code",
   "execution_count": 5,
   "outputs": [],
   "source": [
    "# Load the training data\n",
    "file_pattern = \"Data/next_day_wildfire_spread/next_day_wildfire_spread_train_00.tfrecord\""
   ],
   "metadata": {
    "collapsed": false
   }
  },
  {
   "cell_type": "code",
   "execution_count": 7,
   "outputs": [],
   "source": [
    "# load the training data\n",
    "dataset = get_dataset(\n",
    "      file_pattern,\n",
    "      data_size=64,\n",
    "      sample_size=64,\n",
    "      batch_size=200,\n",
    "      num_in_channels=12,\n",
    "      compression_type=None,\n",
    "      clip_and_normalize=False,\n",
    "      clip_and_rescale=False,\n",
    "      random_crop=False,\n",
    "      center_crop=False)\n",
    "\n",
    "# get the inputs and labels separately\n",
    "inputs, labels = next(iter(dataset.take(1)))\n",
    "inputs, labels = inputs.numpy(), labels.numpy()"
   ],
   "metadata": {
    "collapsed": false
   }
  }
 ],
 "metadata": {
  "kernelspec": {
   "display_name": "Python 3",
   "language": "python",
   "name": "python3"
  },
  "language_info": {
   "codemirror_mode": {
    "name": "ipython",
    "version": 2
   },
   "file_extension": ".py",
   "mimetype": "text/x-python",
   "name": "python",
   "nbconvert_exporter": "python",
   "pygments_lexer": "ipython2",
   "version": "2.7.6"
  }
 },
 "nbformat": 4,
 "nbformat_minor": 0
}
